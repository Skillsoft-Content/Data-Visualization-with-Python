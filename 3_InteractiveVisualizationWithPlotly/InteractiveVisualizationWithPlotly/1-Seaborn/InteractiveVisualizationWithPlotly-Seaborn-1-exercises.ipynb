{
 "cells": [
  {
   "cell_type": "markdown",
   "id": "35613178",
   "metadata": {},
   "source": [
    "## INTERACTIVEVISUALIZATIONWITHPLOTLY/1 SEABORN/INTERACTIVEVISUALIZATIONWITHPLOTLY SEABORN 1 EXERCISE  ##\n",
    "#### Please refer to module 1 of InteractiveVisualizationWithPlotly - Seaborn for Tasks 1-10\n",
    "#### Task 1\n",
    "##### Load seaborn as sns and matplotlib.pyplot as plt for plotting data.\n",
    "##### Load in the dataset `tips` from the sns repository and save it to the variable tips.\n",
    "#### Result:\n"
   ]
  },
  {
   "cell_type": "code",
   "execution_count": null,
   "id": "32d5c344",
   "metadata": {},
   "outputs": [],
   "source": []
  },
  {
   "cell_type": "markdown",
   "id": "4826a273",
   "metadata": {},
   "source": [
    "#### Task 2\n",
    "##### View the top 10 rows of `tips`.  \n",
    "#### Result:\n"
   ]
  },
  {
   "cell_type": "code",
   "execution_count": null,
   "id": "6acb8a4d",
   "metadata": {},
   "outputs": [],
   "source": []
  },
  {
   "cell_type": "markdown",
   "id": "ac9a595f",
   "metadata": {},
   "source": [
    "#### Task 3\n",
    "##### Create a histogram of the column `tip`.\n",
    "##### Create a layered histogram of `tip` by `smoker`\n",
    "#### Result:\n"
   ]
  },
  {
   "cell_type": "code",
   "execution_count": null,
   "id": "5aa47e62",
   "metadata": {},
   "outputs": [],
   "source": []
  },
  {
   "cell_type": "markdown",
   "id": "a1431b11",
   "metadata": {},
   "source": [
    "#### Task 4\n",
    "##### Create a boxplot of `total_bill`.\n",
    "##### Create a second boxplot of `total_bill` grouped by `day`.\n",
    "#### Result:\n"
   ]
  },
  {
   "cell_type": "code",
   "execution_count": null,
   "id": "b888163b",
   "metadata": {},
   "outputs": [],
   "source": []
  },
  {
   "cell_type": "markdown",
   "id": "48b19cca",
   "metadata": {},
   "source": [
    "#### Task 5\n",
    "##### Create a bar plot of `tips` grouped by `day`.\n",
    "##### Create a second bar plot of `tips` grouped by `day` and `time`.\n",
    "##### Both plots should display the confidence interval based on the standard deviation.\n",
    "#### Result:\n"
   ]
  },
  {
   "cell_type": "code",
   "execution_count": null,
   "id": "fd287cf3",
   "metadata": {},
   "outputs": [],
   "source": []
  },
  {
   "cell_type": "markdown",
   "id": "ac090755",
   "metadata": {},
   "source": [
    "#### Task 6\n",
    "##### Create a scatterplot of `tips` versus `total_bill`.\n",
    "#### Result:\n"
   ]
  },
  {
   "cell_type": "code",
   "execution_count": null,
   "id": "03c25a37",
   "metadata": {},
   "outputs": [],
   "source": []
  },
  {
   "cell_type": "markdown",
   "id": "aea175fb",
   "metadata": {},
   "source": [
    "#### Task 7\n",
    "##### Create a linear model plot of `tips` versus `total_bill`.\n",
    "#### Result:\n"
   ]
  },
  {
   "cell_type": "code",
   "execution_count": null,
   "id": "666bfb43",
   "metadata": {},
   "outputs": [],
   "source": []
  },
  {
   "cell_type": "markdown",
   "id": "5534f11d",
   "metadata": {},
   "source": [
    "#### Task 8\n",
    "##### Create a residual plot of `tips` versus `total_bill`.\n",
    "##### Does the linear model seem like a good model for this data?\n",
    "#### Result:\n"
   ]
  },
  {
   "cell_type": "code",
   "execution_count": null,
   "id": "f14c6d7f",
   "metadata": {},
   "outputs": [],
   "source": []
  },
  {
   "cell_type": "markdown",
   "id": "bd28eaeb",
   "metadata": {},
   "source": [
    "#### Task 9\n",
    "##### Create a heatmap of `total_bill` by day and time using the below code to make a pivot table.\n"
   ]
  },
  {
   "cell_type": "code",
   "execution_count": null,
   "id": "5b32877a",
   "metadata": {},
   "outputs": [],
   "source": [
    "tips2 = tips.groupby(['day', 'time']).mean()[['total_bill']]\n",
    "tips2.reset_index(inplace = True)\n",
    "tips2 = tips2.pivot('day', 'time', 'total_bill')\n"
   ]
  },
  {
   "cell_type": "markdown",
   "id": "09790c87",
   "metadata": {},
   "source": [
    "##### Use tips2 to create a heatmap.\n",
    "#### Result:\n"
   ]
  },
  {
   "cell_type": "code",
   "execution_count": null,
   "id": "8c4e92d0",
   "metadata": {},
   "outputs": [],
   "source": []
  },
  {
   "cell_type": "markdown",
   "id": "e3ac799a",
   "metadata": {},
   "source": [
    "#### Task 10\n",
    "##### Use the code from Task 4 for the second boxplot and change the xlabel to `Days of the Week` and the ylabel to `Total Bill ($)` and the title to `Distributions of restaurant bills over the week`\n",
    "#### Result:\n"
   ]
  },
  {
   "cell_type": "code",
   "execution_count": null,
   "id": "7d423750",
   "metadata": {},
   "outputs": [],
   "source": []
  }
 ],
 "metadata": {
  "language": "python"
 },
 "nbformat": 4,
 "nbformat_minor": 5
}
