{
 "cells": [
  {
   "cell_type": "code",
   "execution_count": null,
   "id": "1d0bbbd9",
   "metadata": {},
   "outputs": [],
   "source": [
    "#######################################################\n",
    "#######################################################\n",
    "############    COPYRIGHT - DATA SOCIETY   ############\n",
    "#######################################################\n",
    "#######################################################\n",
    "\n",
    "## INTERACTIVEVISUALIZATIONWITHPLOTLY/1 SEABORN/INTERACTIVEVISUALIZATIONWITHPLOTLY SEABORN 1 ##\n",
    "\n",
    "## NOTE: To run individual pieces of code, select the line of code and\n",
    "##       press ctrl + enter for PCs or command + enter for Macs\n",
    "\n",
    "\n"
   ]
  },
  {
   "cell_type": "code",
   "execution_count": null,
   "id": "c052cdb3",
   "metadata": {},
   "outputs": [],
   "source": [
    "#=================================================-\n",
    "#### Slide 8: Loading the dataset and libraries  ####\n",
    "\n",
    "# import the libraries\n",
    "import seaborn as sns\n",
    "from matplotlib import pyplot as plt\n",
    "# Load the dataset\n",
    "penguins = sns.load_dataset(\"penguins\")\n",
    "\n",
    "# Top 5 entries of dataset\n",
    "penguins.head()\n",
    "\n",
    "\n"
   ]
  },
  {
   "cell_type": "code",
   "execution_count": null,
   "id": "b0be9537",
   "metadata": {},
   "outputs": [],
   "source": [
    "#=================================================-\n",
    "#### Slide 9: Data preprocessing  ####\n",
    "\n",
    "# Check for null values\n",
    "penguins.isna().sum()\n",
    "# Drop NA's and reassign clean data\n",
    "penguins = penguins.dropna()\n",
    "\n",
    "\n"
   ]
  },
  {
   "cell_type": "code",
   "execution_count": null,
   "id": "973d6bfb",
   "metadata": {},
   "outputs": [],
   "source": [
    "#=================================================-\n",
    "#### Slide 13: Plot a layered histogram  ####\n",
    "\n",
    "plt.figure(figsize=(6,4))     #<- set the figure size\n",
    "\n",
    "sns.histplot(data = penguins,     #<- set data\n",
    "      x = \"body_mass_g\",          #<- set x variable\n",
    "      hue = \"species\",            #<- grouping parameter\n",
    "      palette = \"light:m_r\")      #<- set color\n",
    "\n",
    "\n"
   ]
  },
  {
   "cell_type": "code",
   "execution_count": null,
   "id": "d6d15d67",
   "metadata": {},
   "outputs": [],
   "source": [
    "#=================================================-\n",
    "#### Slide 14: Univariate plots: box plot  ####\n",
    "\n",
    "plt.figure(figsize=(5,3))     #<- set the figure size\n",
    "\n",
    "# Create a simple boxplot \n",
    "sns.boxplot(data = penguins,      #<- set data\n",
    "        y = \"body_mass_g\",        #<- set y variable\n",
    "        palette = [\"m\"])          #<- set color\n",
    "\n",
    "\n"
   ]
  },
  {
   "cell_type": "code",
   "execution_count": null,
   "id": "7195ca07",
   "metadata": {},
   "outputs": [],
   "source": [
    "#=================================================-\n",
    "#### Slide 15: Plot a box plot  ####\n",
    "\n",
    "plt.figure(figsize=(6,4))    #<- set the figure size\n",
    "sns.boxplot(data = penguins,    #<- set data\n",
    "        x = \"species\",          #<- set x variable\n",
    "        y = \"body_mass_g\",      #<- set y variable\n",
    "        palette = [\"m\"])        #<- set color\n",
    "\n",
    "\n"
   ]
  },
  {
   "cell_type": "code",
   "execution_count": null,
   "id": "e62b228d",
   "metadata": {},
   "outputs": [],
   "source": [
    "#=================================================-\n",
    "#### Slide 16: Univariate plots: bar plot  ####\n",
    "\n",
    "plt.figure(figsize=(6,4))       #<- set the figure size\n",
    "\n",
    "# Create a barplot\n",
    "sns.barplot(data = penguins,     #<- set the data\n",
    "        x = \"sex\",               #<- set x variable\n",
    "        y = \"body_mass_g\",       #<- set y variable\n",
    "        ci = \"sd\", \n",
    "        palette = \"dark\")        #<- set color\n",
    "\n",
    "\n"
   ]
  },
  {
   "cell_type": "code",
   "execution_count": null,
   "id": "39a6b154",
   "metadata": {},
   "outputs": [],
   "source": [
    "#=================================================-\n",
    "#### Slide 17: Plot a bar plot  ####\n",
    "\n",
    "plt.figure(figsize=(6,4))         #<- set the figure size\n",
    "sns.barplot(data = penguins,      #<- set the data\n",
    "        x = \"species\",            #<- set x variable\n",
    "        y = \"body_mass_g\",        #<- set y variable\n",
    "        hue = \"sex\",ci=\"sd\",      #<- set grouping variable\n",
    "        palette = \"dark\")         #<- set color\n",
    "\n",
    "\n",
    "\n"
   ]
  },
  {
   "cell_type": "code",
   "execution_count": null,
   "id": "08b8753a",
   "metadata": {},
   "outputs": [],
   "source": [
    "#=================================================-\n",
    "#### Slide 20: Bivariate plots: scatter plot  ####\n",
    "\n",
    "plt.figure(figsize=(6,4))         #<- set the figure size\n",
    "\n",
    "# Create a scatterplot\n",
    "sns.scatterplot(data = penguins,       #<- set the data\n",
    "        x = \"bill_length_mm\",          #<- set x variable\n",
    "        y = \"flipper_length_mm\",        #<- set y variable\n",
    "        linewidth = 0)                 #<- set line width\n",
    "\n",
    "\n"
   ]
  },
  {
   "cell_type": "code",
   "execution_count": null,
   "id": "6eeb2b0e",
   "metadata": {},
   "outputs": [],
   "source": [
    "#=================================================-\n",
    "#### Slide 21: Bivariate plots: line plot  ####\n",
    "\n",
    "plt.figure(figsize=(5,4))      #<- set the figure size\n",
    "\n",
    "sns.lmplot(data = penguins,          #<- set the data\n",
    "        x = \"bill_length_mm\",        #<- set x variable\n",
    "        y = \"flipper_length_mm\",     #<- set y variable\n",
    "        fit_reg = True)\n",
    "\n",
    "\n"
   ]
  },
  {
   "cell_type": "code",
   "execution_count": null,
   "id": "87dd4a92",
   "metadata": {},
   "outputs": [],
   "source": [
    "#=================================================-\n",
    "#### Slide 22: Bivariate plots: residual plot  ####\n",
    "\n",
    "plt.figure(figsize=(6,4))          #<- set the figure size\n",
    "sns.residplot(data = penguins, \n",
    "        x = 'bill_length_mm',               #<- set x variable\n",
    "        y = 'flipper_length_mm',            #<- set y variable\n",
    "        lowess = True, \n",
    "        color=\"b\")\n",
    "\n",
    "\n"
   ]
  },
  {
   "cell_type": "code",
   "execution_count": null,
   "id": "dbdeacfa",
   "metadata": {},
   "outputs": [],
   "source": [
    "#=================================================-\n",
    "#### Slide 23: Multivariate plots: Heatmaps  ####\n",
    "\n",
    "plt.figure(figsize=(6,4))            #<- set the figure size\n",
    "sns.heatmap(penguins.corr(),         #<- set the data to find out the correlation\n",
    "        vmin = -1, \n",
    "        vmax = 1, \n",
    "        center = 0,\n",
    "        annot = True)\n",
    "\n",
    "\n"
   ]
  },
  {
   "cell_type": "code",
   "execution_count": null,
   "id": "7426f9b8",
   "metadata": {},
   "outputs": [],
   "source": [
    "#=================================================-\n",
    "#### Slide 25: Format plots in seaborn (cont'd)  ####\n",
    "\n",
    "plt.figure(figsize=(5,4))            #<- set the figure size\n",
    "g = sns.lmplot(data = penguins,\n",
    "        x = \"bill_length_mm\",                   #<- set x variable\n",
    "        y = \"flipper_length_mm\",                #<- set x variable\n",
    "        height = 4,                             #<- set the height\n",
    "        fit_reg = True)\n",
    "g.set(title = 'Bill Length versus Flipper Length',           #<- set the title\n",
    "        xlabel = 'Bill Length (mm)',                         #<- set label for x variable\n",
    "        ylabel = 'Flipper Length (mm)')                      #<- set label for y variable\n",
    "\n",
    "\n"
   ]
  },
  {
   "cell_type": "code",
   "execution_count": null,
   "id": "f3d547f2",
   "metadata": {},
   "outputs": [],
   "source": [
    "#=================================================-\n",
    "#### Slide 27: Exercise   ####\n",
    "\n",
    "\n",
    "\n",
    "\n",
    "#######################################################\n",
    "####  CONGRATULATIONS ON COMPLETING THIS MODULE!   ####\n",
    "#######################################################\n"
   ]
  }
 ],
 "metadata": {
  "language": "python"
 },
 "nbformat": 4,
 "nbformat_minor": 5
}
