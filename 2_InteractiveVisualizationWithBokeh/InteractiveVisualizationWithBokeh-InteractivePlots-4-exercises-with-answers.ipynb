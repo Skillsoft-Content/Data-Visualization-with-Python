{
 "cells": [
  {
   "cell_type": "markdown",
   "id": "007ff4bf",
   "metadata": {},
   "source": [
    "## INTERACTIVEVISUALIZATIONWITHBOKEH/INTERACTIVEPLOTS/INTERACTIVEVISUALIZATIONWITHBOKEH INTERACTIVEPLOTS 4 EXERCISE ANSWERS ##\n",
    "#### Please refer to module 1 of Interactive Visualization With Bokeh - 1 for tasks 1-2\n",
    "#### Task 1\n",
    "##### Import the required packages.\n",
    "##### Set `data_dir` and `plot_dir` to the path of the data/plot directory.\n",
    "##### Print `data_dir` and `plot_dir`.\n",
    "#### Result:\n"
   ]
  },
  {
   "cell_type": "code",
   "execution_count": null,
   "id": "13723e64",
   "metadata": {},
   "outputs": [],
   "source": [
    "import pandas as pd\n",
    "import numpy as np\n",
    "import os\n",
    "import pickle\n",
    "import matplotlib.pyplot as plt\n",
    "from bokeh.io import output_notebook\n",
    "from bokeh.plotting import figure, output_file, show, output_notebook, save\n",
    "from bokeh.transform import factor_cmap, factor_mark\n",
    "from bokeh.layouts import column, row, gridplot\n",
    "from bokeh.models import HoverTool, ColumnDataSource, NumeralTickFormatter, GroupFilter, CDSView\n",
    "import ipywidgets as widgets\n",
    "from ipywidgets import interact, interact_manual\n",
    "from pathlib import Path \n",
    "home_dir = Path(\".\").resolve()\n",
    "main_dir = home_dir.parent\n",
    "print(main_dir)\n",
    "data_dir = str(main_dir) + \"/data\"\n",
    "print(data_dir)\n",
    "plot_dir = str(main_dir) + \"/plots\"\n",
    "print(plot_dir)\n",
    "    \n"
   ]
  },
  {
   "cell_type": "markdown",
   "id": "962cce49",
   "metadata": {},
   "source": [
    "#### Task 2\n",
    "#####  Use `output_notebook() ` function to display your Bokeh plots within the Jupyter notebooks.\n",
    "##### Create a figure `p_ex` with `width = 500` and `height = 500`.\n",
    "##### Create a simple plot with diamond glyphs using the following data:\n",
    "##### `x_values_ex = [22, 34, 71, 80, 12]`\n",
    "##### `y_values_ex = [61, 27, 42, 13, 46]`\n",
    "##### Set `size` of the diamond to `25`.\n",
    "##### Set `color `of the glyph to `orange`.\n",
    "##### Set `alpha` value of the diamond  to `0.6`.\n",
    "#### Result:\n"
   ]
  },
  {
   "cell_type": "code",
   "execution_count": null,
   "id": "48c31b4c",
   "metadata": {},
   "outputs": [],
   "source": [
    "output_notebook()\n",
    "p_ex = figure(width = 500, height = 500)\n",
    "x_values_ex = [22, 34, 71, 80, 12]\n",
    "y_values_ex = [61, 27, 42, 13, 46]\n",
    "p_ex.diamond(x_values_ex, y_values_ex, size = 25, color = \"orange\", alpha = 0.6)\n",
    "show(p_ex)\n"
   ]
  },
  {
   "cell_type": "markdown",
   "id": "9072a13d",
   "metadata": {},
   "source": [
    "#### Please refer to module 2 of Interactive Visualization With Bokeh - 2 for tasks 3-8\n",
    "#### Task 3\n",
    "##### Load the `heart_failure_clinical_records_dataset.csv` dataset. \n",
    "##### Save it as `clinical_records`.\n",
    "##### View the first few rows of `clinical_records`.\n",
    "#### Result:\n"
   ]
  },
  {
   "cell_type": "code",
   "execution_count": null,
   "id": "c3608a8e",
   "metadata": {},
   "outputs": [],
   "source": [
    "clinical_records = pd.read_csv(data_dir + \"/heart_failure_clinical_records_dataset.csv\")\n",
    "# First five rows using .head().\n",
    "clinical_records.head()\n",
    "    \n"
   ]
  },
  {
   "cell_type": "markdown",
   "id": "2a126344",
   "metadata": {},
   "source": [
    "#### Task 4\n",
    "##### Drop the column `id` from the dataframe.\n",
    "##### Look for NAs in `clinical_records` and impute with the mean of the column.\n",
    "##### Make a new duplicate dataframe called `ex_viz`.\n",
    "#### Result:\n"
   ]
  },
  {
   "cell_type": "code",
   "execution_count": null,
   "id": "19a835e7",
   "metadata": {},
   "outputs": [],
   "source": [
    "clinical_records = clinical_records.drop(clinical_records[['id']], axis = 1)\n",
    "# Check for NAs.\n",
    "clinical_records.isnull().sum(axis = 0)\n",
    "ex_viz = clinical_records\n"
   ]
  },
  {
   "cell_type": "markdown",
   "id": "e46b56a5",
   "metadata": {},
   "source": [
    "#### Task 5\n",
    "###### Create a variable called `blood_pressure` whose value is `normal` if `high_blood_pressure` is 0 and `high` if `high_blood_pressure` is 1. \n",
    "##### Create a figure  `p_ex` with `width = 500` and `height = 500` .\n",
    "##### Create a plot with circle glyphs, with `serum_sodium` on the x-axis and  `age` on the y-axis.\n",
    "##### Set `size` of the circles as `10`, `color `as `darkgreen`, and `alpha` as `0.7`. \n",
    "##### Set `title` of the figure, and name the x-axis and y-axis appropriately.\n",
    "#### Result:\n"
   ]
  },
  {
   "cell_type": "code",
   "execution_count": null,
   "id": "b06a758d",
   "metadata": {},
   "outputs": [],
   "source": [
    "ex_viz['blood_pressure'] = np.where(ex_viz['high_blood_pressure'] == 0, \"normal\", \"high\")\n",
    "# Plot scatterplot.\n",
    "p_ex = figure(title = \"Age vs serum sodium levels\",\n",
    "           x_axis_label = 'Serum sodium level',\n",
    "           y_axis_label = 'Age',\n",
    "           width=500, height=500)\n",
    "p_ex.circle(ex_viz['serum_sodium'],\n",
    "            ex_viz['age'], \n",
    "            size = 10, \n",
    "            color = \"darkgreen\", \n",
    "            alpha = 0.7)\n",
    "show(p_ex)\n",
    "    \n"
   ]
  },
  {
   "cell_type": "markdown",
   "id": "7849e4ce",
   "metadata": {},
   "source": [
    "#### Task 6\n",
    "##### Print out the counts of the two levels in `blood pressure` in the `ex_viz` dataset. \n",
    "##### Create a figure  `p_ex`  with `width = 500` and `height = 500` .\n",
    "##### Create a vertical barchart with ``x` = blood pressure` and `top` = counts of the two levels in `blood pressure`.\n",
    "##### Set the `color` of the bars to `plum` and their `width` to `0.5`.\n",
    "#### Result:\n"
   ]
  },
  {
   "cell_type": "code",
   "execution_count": null,
   "id": "3b71c3c9",
   "metadata": {},
   "outputs": [],
   "source": [
    "# Display count of `blood_pressure`.\n",
    "print(ex_viz.blood_pressure.value_counts())\n",
    "# Create vertical barchart. \n",
    "p_ex = figure(width = 500, height = 500)\n",
    "p_ex.vbar(x = [0, 1], \n",
    "       width = 0.5, \n",
    "       bottom = 0,\n",
    "       top = ex_viz.blood_pressure.value_counts(),\n",
    "       color = \"plum\")\n",
    "show(p_ex)\n"
   ]
  },
  {
   "cell_type": "markdown",
   "id": "744f5023",
   "metadata": {},
   "source": [
    "#### Task 7\n",
    "##### Create a figure  `p_ex`  with `width = 500` and `height = 500` .\n",
    "##### Create the same barchart from previous task, however this time, make it horizontal.\n",
    "##### Make sure to set  `y =  blood_pressure` and `right`= counts of the two levels in `blood_pressure`.\n",
    "##### Set the `color` of the bars to `red` and their `width` to `0.5`.\n",
    "#### Result:\n"
   ]
  },
  {
   "cell_type": "code",
   "execution_count": null,
   "id": "78adb6b6",
   "metadata": {},
   "outputs": [],
   "source": [
    "# Create horizontal barchart. \n",
    "p_ex = figure(width=500, height=500)\n",
    "p_ex.hbar(y = [0, 1], \n",
    "       height = 0.5, \n",
    "       left = 0,\n",
    "       right = ex_viz.blood_pressure.value_counts(),\n",
    "       color = \"red\")\n",
    "show(p_ex)\n"
   ]
  },
  {
   "cell_type": "markdown",
   "id": "c37ea0c8",
   "metadata": {},
   "source": [
    "#### Task 8\n",
    "##### Create a figure  `p_ex` with `width = 500` and `height = 500` .\n",
    "##### Create a scatterplot with `serum_sodium` on the x-axis and `age` on the y-axis. \n",
    "##### This time, use square markers for values where `blood_pressure` is \"normal\" and triangle markers where `blood_pressure` is \"high\".\n",
    "##### This can be done via the following steps:\n",
    "##### Create an array called `levels_ex` with \"normal\" and \"high\".\n",
    "##### Create an array called `markers_ex` with \"square\" and \"triangle\".\n",
    "##### Create the scatter plot with`serum_sodium` on the x-axis,  `age` on the y-axis, and legend_group = \"Blood pressure\".\n",
    "##### Use factor_mark() to create markers called using `levels_ex` and `markers_ex`.\n",
    "##### Use factor_cmap() to colormap the markers to the levels using the colorscale \"Category10_7\".\n",
    "##### Make sure to set the title and axis labels appropriately.\n",
    "#### Result:\n"
   ]
  },
  {
   "cell_type": "code",
   "execution_count": null,
   "id": "a78230e3",
   "metadata": {},
   "outputs": [],
   "source": [
    "# Create array for levels and markers.\n",
    "levels_ex = [\"normal\", \"high\"]\n",
    "markers_ex = ['square', 'triangle']\n",
    "# Create figure with appropriate title and axis labels.\n",
    "p_ex = figure(title = \"Age vs Serum sodium\",\n",
    "           x_axis_label = 'Serum sodium level',\n",
    "           y_axis_label = 'Age',\n",
    "           width = 500, height = 500)\n",
    "           \n",
    "# Create scatterplot with markers.\n",
    "p_ex.scatter('serum_sodium', 'age', \n",
    "           source = ex_viz, \n",
    "           legend_group = \"blood_pressure\", \n",
    "           fill_alpha = 0.1, \n",
    "           size = 12,\n",
    "           marker = factor_mark(\"blood_pressure\",\n",
    "                               markers_ex, \n",
    "                               levels_ex),\n",
    "           color = factor_cmap(\"blood_pressure\", \n",
    "                             'Category10_7', \n",
    "                              levels_ex))\n",
    "show(p_ex)\n"
   ]
  },
  {
   "cell_type": "markdown",
   "id": "15e18d0c",
   "metadata": {},
   "source": [
    "#### Please refer to module 3 of Interactive Visualization With Bokeh - 3 for tasks 9-21\n",
    "#### Task 9\n",
    "##### Create an array `tools` with `box_select` `hover` and `reset`.\n",
    "##### Recreate the circle glyph plot, the vertical barchart and the scatterplot from the previous module. \n",
    "##### Name them `p_ex1`, `p_ex2` and `p_ex3` respectively. \n",
    "##### Make sure all 3 figures have `width = 500` and `height = 500` .\n",
    "##### Arrange them in row layout. \n",
    "##### Add the `box_select`, `hover` and `reset` tools to all three figures.\n",
    "#### Result:\n"
   ]
  },
  {
   "cell_type": "code",
   "execution_count": null,
   "id": "f8f441ec",
   "metadata": {},
   "outputs": [],
   "source": [
    "tools = [\"box_select\", \"hover\", \"reset\"]\n",
    "# Circle glyph plot.\n",
    "p_ex1 = figure(width = 500, height = 500, tools = tools)\n",
    "p_ex1.circle(ex_viz['serum_sodium'],\n",
    "         ex_viz['age'], \n",
    "          size = 10, \n",
    "          color = \"darkgreen\", \n",
    "          alpha = 0.7)\n",
    "# Vertical barchart. \n",
    "p_ex2 = figure(width = 500, height = 500, tools = tools)\n",
    "p_ex2.vbar(x = [0, 1], \n",
    "       width = 0.5, \n",
    "       bottom = 0,\n",
    "       top = ex_viz.blood_pressure.value_counts(),\n",
    "       color = \"plum\")\n",
    "       \n",
    "# Scatterplot.\n",
    "# Create array for levels and markers.\n",
    "levels_ex = [\"normal\", \"high\"]\n",
    "markers_ex = ['square', 'triangle']\n",
    "p_ex3 = figure(width = 500, height = 500, tools = tools)\n",
    "p_ex3.scatter('serum_sodium', 'age', \n",
    "           source = ex_viz, \n",
    "           legend_group = \"blood_pressure\", \n",
    "           fill_alpha = 0.1, \n",
    "           size = 12,\n",
    "           marker = factor_mark(\"blood_pressure\",\n",
    "                               markers_ex, \n",
    "                               levels_ex),\n",
    "           color = factor_cmap(\"blood_pressure\", \n",
    "                             'Category10_7', \n",
    "                              levels_ex))\n",
    "                              \n",
    "# Create a column layout.\n",
    "show(row(p_ex1, p_ex2, p_ex3))\n"
   ]
  },
  {
   "cell_type": "markdown",
   "id": "30b810ed",
   "metadata": {},
   "source": [
    "#### Task 10\n",
    "##### Create a `grid` layout for the plots `p_ex1`, `p_ex2` and `p_ex3` that you created in the previous task.\n",
    "##### Set plots `p_ex1` and  `p_ex2` in the first row, and plot `p_ex3` in the bottom right position.\n",
    "#### Result:\n"
   ]
  },
  {
   "cell_type": "code",
   "execution_count": null,
   "id": "46472288",
   "metadata": {},
   "outputs": [],
   "source": [
    "grid = gridplot([[p_ex1, p_ex2], \n",
    "                [None, p_ex3]])\n"
   ]
  },
  {
   "cell_type": "markdown",
   "id": "d5df49b5",
   "metadata": {},
   "source": [
    "#### Task 11\n",
    "##### Convert dataframe `ex_viz` to column data source and save in a variable named `src_ex`.\n",
    "##### Customize a hover tooltip to display \"Serum sodium\" for `serum_sodium` and \"Age\" for `age`.\n",
    "##### Create the circle glyph plot `p_ex` using `src_ex` as `source`.\n",
    "##### Add the hover tool to this plot.\n",
    "#### Result:\n"
   ]
  },
  {
   "cell_type": "code",
   "execution_count": null,
   "id": "59a72a86",
   "metadata": {},
   "outputs": [],
   "source": [
    "# Convert dataframe to column data source.\n",
    "src_ex = ColumnDataSource(ex_viz)\n",
    "# Hover tool referring to our own data field using @ and\n",
    "# a position on the graph using $.\n",
    "hover = HoverTool(tooltips = [('Serum sodium level', '@serum_sodium'),\n",
    "                              ('Age', '@age'),\n",
    "                             ])\n",
    "                             \n",
    "# Circle glyph plot\n",
    "p_ex = figure(width = 500, height = 500, tools = tools)\n",
    "p_ex.circle('serum_sodium',\n",
    "         'age',\n",
    "          source=src_ex,\n",
    "          size = 10, \n",
    "          color = \"darkgreen\", \n",
    "          alpha = 0.7)\n",
    "          \n",
    "# Add the hover tool to the graph.\n",
    "p_ex.add_tools(hover)\n",
    "show(p_ex)\n"
   ]
  },
  {
   "cell_type": "markdown",
   "id": "4a2434af",
   "metadata": {},
   "source": [
    "#### Task 12\n",
    "##### Recreate the circle glyph plot `p_ex` from the previous task and add a functionality to highlight certain points.\n",
    "##### This can be done via the following steps:\n",
    "##### Convert dataframe `ex_viz` to the column data source, and save in a variable named `src_ex`.\n",
    "##### Create a figure with `width = 500` and `height = 500` .\n",
    "##### Add the `box_select`, `lasso_select`, `poly_select`,`hover`, and `reset` tools to the figure. \n",
    "##### Create the circle glyph plot with  with `percent_dependent` on the x-axis and  `hardship_index` on the y-axis using `src_ex` as the source.\n",
    "##### Set the `color` of the circles to `red`.\n",
    "##### Set the `color` of the  selected circles to  `darkred` and the non-selected circles to `lightgray`.\n",
    "##### Set the `alpha` of the non-selected circles to `0.3`. \n",
    "##### Customize a hover tooltip to display \"% Dependent\" for `percent_dependent` and \"Hardship Index\" for `hardship_index`.\n",
    "##### Add the hover tool to this plot.\n",
    "#### Result:\n"
   ]
  },
  {
   "cell_type": "code",
   "execution_count": null,
   "id": "5424d6f1",
   "metadata": {},
   "outputs": [],
   "source": [
    "# Convert dataframe to column data source.\n",
    "src_ex = ColumnDataSource(ex_viz)\n",
    "# Specify the selection tools to be made available.\n",
    "select_tools = ['box_select', 'lasso_select', 'poly_select', 'tap', 'reset']\n",
    "# Create the figure.\n",
    "p_ex = figure(height = 500,\n",
    "             width = 500,\n",
    "             x_axis_label = 'serum_sodium',\n",
    "             y_axis_label = 'age',\n",
    "             title = 'Interactive scatterplot',\n",
    "             toolbar_location = 'below',\n",
    "             tools = select_tools)\n",
    "p_ex.circle('serum_sodium',\n",
    "         'age',\n",
    "          source=src_ex,\n",
    "          size = 10, \n",
    "          color = \"red\",\n",
    "          alpha = 0.7,\n",
    "          selection_color = 'darkred',\n",
    "          nonselection_color = 'lightgray',\n",
    "          nonselection_alpha = 0.3)\n",
    "       \n",
    "# Format the tooltip.\n",
    "tooltips = [\n",
    "            ('Serum sodium level', '@serum_sodium'),\n",
    "            ('Age', '@age'),\n",
    "            ]\n",
    "# Add the HoverTool to the figure.\n",
    "p_ex.add_tools(HoverTool(tooltips = tooltips))\n",
    "show(p_ex)\n"
   ]
  },
  {
   "cell_type": "markdown",
   "id": "1aa0c19a",
   "metadata": {},
   "source": [
    "#### Task 13\n",
    "##### Recreate the circle glyph plot  `p_ex` from the previous task.\n",
    "##### Creating a new circle glyph named `hover_glyph` to display the data point hovered over as a yellow circle with `alpha = 0.8`. \n",
    "##### Add it as `renderers` to the figure `p_ex` using `.add_tools()`.\n",
    "#### Result:\n"
   ]
  },
  {
   "cell_type": "code",
   "execution_count": null,
   "id": "018cc2bf",
   "metadata": {},
   "outputs": [],
   "source": [
    "hover_glyph = p_ex.circle(x = 'serum_sodium',\n",
    "          y = 'age',\n",
    "          source = src_ex,\n",
    "          color = \"red\",\n",
    "          size = 10, \n",
    "          alpha = 0.7,\n",
    "          selection_color = 'darkred',\n",
    "          nonselection_color = 'lightgray',\n",
    "          nonselection_alpha = 0.3,\n",
    "          hover_fill_color = 'yellow', hover_alpha = 0.8\n",
    "         )\n",
    "# Add the HoverTool to the figure.\n",
    "p_ex.add_tools(HoverTool(tooltips = tooltips,  renderers = [hover_glyph]))\n",
    "show(p_ex)\n"
   ]
  },
  {
   "cell_type": "markdown",
   "id": "68809948",
   "metadata": {},
   "source": [
    "#### Task 14\n",
    "##### Convert dataframe `ex_viz` to the column data source, and save in a variable named `src_ex`.\n",
    "##### Create a filter and view for the labels \"normal\" and \"high\" labels of `blood_pressure`.\n",
    "##### Name the filters `normal_filters_ex` and `normal_view_ex` and `high_filters_ex` and `high_view_ex` respectively.\n",
    "#### Result:\n"
   ]
  },
  {
   "cell_type": "code",
   "execution_count": null,
   "id": "cbb834f0",
   "metadata": {},
   "outputs": [],
   "source": [
    "# Convert dataframe to column data source.\n",
    "src_ex = ColumnDataSource(ex_viz)\n",
    "# Create a view for \"normal\".\n",
    "normal_filters_ex = [GroupFilter(column_name = 'blood_pressure', group = 'normal')]\n",
    "normal_view_ex = CDSView(source = src_ex,\n",
    "                      filters = normal_filters_ex)\n",
    "                             \n",
    "# Create a view for \"high\".\n",
    "high_filters_ex = [GroupFilter(column_name='blood_pressure', group = 'high')]\n",
    "high_view_ex = CDSView(source = src_ex,\n",
    "                      filters = high_filters_ex)\n",
    "                      \n"
   ]
  },
  {
   "cell_type": "markdown",
   "id": "ae311dfc",
   "metadata": {},
   "source": [
    "#### Task 15\n",
    "##### Create a dictionary `common_figure_kwargs_ex` with the following arguments for the figure:\n"
   ]
  },
  {
   "cell_type": "code",
   "execution_count": null,
   "id": "bc685462",
   "metadata": {},
   "outputs": [],
   "source": [
    "* 'width': 500\n",
    "* 'height': 500\n",
    "* 'x_axis_label': 'serum_sodium'\n",
    "* 'y_axis_label' : 'age'\n",
    "* 'toolbar_location': None\n"
   ]
  },
  {
   "cell_type": "markdown",
   "id": "87ca6601",
   "metadata": {},
   "source": [
    "#### Result:\n"
   ]
  },
  {
   "cell_type": "code",
   "execution_count": null,
   "id": "ff4f6499",
   "metadata": {},
   "outputs": [],
   "source": [
    "# Consolidate the common keyword arguments for the figure.\n",
    "common_figure_kwargs_ex = {\n",
    "    'width': 500,\n",
    "    'height': 500,\n",
    "    'x_axis_label': 'serum_sodium',\n",
    "    'y_axis_label' : 'age',\n",
    "    'toolbar_location': None\n",
    "}\n",
    "                      \n"
   ]
  },
  {
   "cell_type": "markdown",
   "id": "18600764",
   "metadata": {},
   "source": [
    "#### Task 16\n",
    "##### Create a dictionary `common_circle_kwargs_ex` with the following arguments for the circle glyphs:\n"
   ]
  },
  {
   "cell_type": "code",
   "execution_count": null,
   "id": "32cbe502",
   "metadata": {},
   "outputs": [],
   "source": [
    "* 'x': 'serum_sodium'\n",
    "* 'y': 'age'\n",
    "* 'source': src_ex\n",
    "* 'size': 10\n",
    "* 'alpha': 0.7\n"
   ]
  },
  {
   "cell_type": "markdown",
   "id": "977e6cf2",
   "metadata": {},
   "source": [
    "#### Result:\n"
   ]
  },
  {
   "cell_type": "code",
   "execution_count": null,
   "id": "7bece04f",
   "metadata": {},
   "outputs": [],
   "source": [
    "common_circle_kwargs_ex = {\n",
    "    'x': 'serum_sodium',\n",
    "    'y': 'age',\n",
    "    'source': src_ex,\n",
    "    'size': 10,\n",
    "    'alpha': 0.7,\n",
    "}\n",
    "                      \n"
   ]
  },
  {
   "cell_type": "markdown",
   "id": "65cb92cf",
   "metadata": {},
   "source": [
    "#### Task 17\n",
    "##### Create a dictionary `common_low_kwargs_ex` with the following arguments for the normal blood pressure filter:\n"
   ]
  },
  {
   "cell_type": "code",
   "execution_count": null,
   "id": "6d3f4e5d",
   "metadata": {},
   "outputs": [],
   "source": [
    "* 'view': normal_view_ex\n",
    "* 'color': '#002859'\n",
    "* 'legend_label': 'low'\n"
   ]
  },
  {
   "cell_type": "markdown",
   "id": "17504317",
   "metadata": {},
   "source": [
    "#### Result:\n"
   ]
  },
  {
   "cell_type": "code",
   "execution_count": null,
   "id": "57639f44",
   "metadata": {},
   "outputs": [],
   "source": [
    "common_normal_kwargs_ex = {\n",
    "    'view': normal_view_ex,\n",
    "    'color': '#002859',\n",
    "    'legend_label': 'normal'\n",
    "}\n"
   ]
  },
  {
   "cell_type": "markdown",
   "id": "4e41e51c",
   "metadata": {},
   "source": [
    "#### Task 18\n",
    "##### Create a dictionary `common_high_kwargs_ex` with the following arguments for the high blood pressure filter:\n"
   ]
  },
  {
   "cell_type": "code",
   "execution_count": null,
   "id": "1556add4",
   "metadata": {},
   "outputs": [],
   "source": [
    "* 'view': high_view_ex\n",
    "* 'color': '#FFC324'\n",
    "* 'legend_label': 'high'\n"
   ]
  },
  {
   "cell_type": "markdown",
   "id": "493f1ed7",
   "metadata": {},
   "source": [
    "#### Result:\n"
   ]
  },
  {
   "cell_type": "code",
   "execution_count": null,
   "id": "7b3a549c",
   "metadata": {},
   "outputs": [],
   "source": [
    "common_high_kwargs_ex = {\n",
    "    'view': high_view_ex,\n",
    "    'color': '#FFC324',\n",
    "    'legend_label': 'high'\n",
    "}\n"
   ]
  },
  {
   "cell_type": "markdown",
   "id": "881b9078",
   "metadata": {},
   "source": [
    "#### Task 19\n",
    "##### Create a figure `hide_fig_ex` with a scatter plot using the dictionaries where the \"normal\" class is hidden if the \"high\" class is clicked in the legend and vice versa. \n",
    "##### Title the plot 'Click Legend to HIDE Data'\n",
    "#### Result:\n"
   ]
  },
  {
   "cell_type": "code",
   "execution_count": null,
   "id": "9ff3f610",
   "metadata": {},
   "outputs": [],
   "source": [
    "hide_fig_ex = figure(**common_figure_kwargs_ex,\n",
    "                  title = 'Click Legend to HIDE Data')\n",
    "hide_fig_ex.scatter(**common_circle_kwargs_ex, **common_normal_kwargs_ex)\n",
    "hide_fig_ex.scatter(**common_circle_kwargs_ex, **common_high_kwargs_ex)\n",
    "hide_fig_ex.legend.click_policy = 'hide'\n",
    "show(hide_fig_ex)\n"
   ]
  },
  {
   "cell_type": "markdown",
   "id": "94619646",
   "metadata": {},
   "source": [
    "#### Task 20\n",
    "##### Create a figure `mute_fig_ex` with a scatterplot using the dictionaries where the \"normal\" class is muted if the \"high\" class is clicked in the legend and vice versa. \n",
    "##### Title the plot 'Click Legend to MUTE Data'\n",
    "#### Result:\n"
   ]
  },
  {
   "cell_type": "code",
   "execution_count": null,
   "id": "46419de6",
   "metadata": {},
   "outputs": [],
   "source": [
    "mute_fig_ex = figure(**common_figure_kwargs_ex, title = 'Click Legend to MUTE Data')\n",
    "mute_fig_ex.circle(**common_circle_kwargs_ex, **common_normal_kwargs_ex,\n",
    "                muted_alpha=0.1)\n",
    "mute_fig_ex.circle(**common_circle_kwargs_ex, **common_high_kwargs_ex,\n",
    "                muted_alpha=0.1)\n",
    "mute_fig_ex.legend.click_policy = 'mute'\n",
    "show(mute_fig_ex)\n"
   ]
  },
  {
   "cell_type": "markdown",
   "id": "a15f20d6",
   "metadata": {},
   "source": [
    "#### Task 21\n",
    "##### Arrange the plots `mute_fig_ex` and `hide_fig_ex` next to each other in a row layout.\n",
    "#### Result:\n"
   ]
  },
  {
   "cell_type": "code",
   "execution_count": null,
   "id": "acc8c113",
   "metadata": {},
   "outputs": [],
   "source": [
    "show(row(mute_fig_ex,hide_fig_ex))                         \n"
   ]
  },
  {
   "cell_type": "markdown",
   "id": "c64c0aeb",
   "metadata": {},
   "source": [
    "#### Please refer to module 4 of Interactive Visualization With Bokeh - 4 for tasks 22-23\n",
    "#### Task 22\n",
    "##### Create an interactive widget to select the `x` and `y` variables from the `ex_viz` dataset using the drop-down menu. \n",
    "##### Plot a diamond glyph plot  `p_ex` with the selected `x` and `y` variables. \n",
    "##### Set the `color` of glyphs to `purple`, `size` to `15`, and `alpha` to `1`.\n",
    "##### Set the axis labels and titles appropriately.\n",
    "##### Use the interact_manual method so that the parameters can be selected before re-running the plot. \n",
    "#### Result:\n"
   ]
  },
  {
   "cell_type": "code",
   "execution_count": null,
   "id": "7e39ace3",
   "metadata": {},
   "outputs": [],
   "source": [
    "@interact_manual\n",
    "def scatter_plot(x = list(ex_viz.columns), \n",
    "                 y = list(ex_viz.columns)):\n",
    "    p_ex = figure(title = f'{x} vs {y}',\n",
    "               x_axis_label = x,\n",
    "               y_axis_label = y)\n",
    "    p_ex.diamond(x = x,\n",
    "              y = y,\n",
    "              source = ex_viz,\n",
    "              size = 15, color = \"purple\", alpha=1)\n",
    "    show(p_ex)\n"
   ]
  },
  {
   "cell_type": "markdown",
   "id": "f63e0312",
   "metadata": {},
   "source": [
    "#### Task 23\n",
    "##### Create a figure with `width = 500` and `height = 500`.\n",
    "##### Create a plot using circle glyphs, with `serum sodium` on the x-axis and  `age` on the y-axis.\n",
    "##### Set the `size` of the circles as `10`, `color `as `darkgreen`, and `alpha` as `0.7`. \n",
    "##### Set the `title` of the figure, and name the x-axis and y-axis appropriately.\n",
    "##### Save the `bokeh` plot you created to your `plot_dir` and name it `bokeh-interactive-plot.html`.\n",
    "#### Result:\n"
   ]
  },
  {
   "cell_type": "code",
   "execution_count": null,
   "id": "9aeb32cb",
   "metadata": {},
   "outputs": [],
   "source": [
    "# Plot scatterplot.\n",
    "p_ex = figure(title = \"Serum sodium level vs Age\",\n",
    "           x_axis_label = 'serum_sodium',\n",
    "           y_axis_label = 'age',\n",
    "           width = 500, height = 500)\n",
    "p_ex.circle(ex_viz['serum_sodium'],\n",
    "         ex_viz['age'], \n",
    "          size = 10, \n",
    "          color = \"darkgreen\", \n",
    "          alpha = 0.7)\n",
    "# Save your plot.\n",
    "output_file(plot_dir + \"/bokeh-interactive-plot.html\", mode = 'inline')\n",
    "save(p_ex)\n"
   ]
  }
 ],
 "metadata": {
  "language": "python"
 },
 "nbformat": 4,
 "nbformat_minor": 5
}
